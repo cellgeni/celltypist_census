{
 "cells": [
  {
   "cell_type": "code",
   "execution_count": 1,
   "id": "scenic-faculty",
   "metadata": {},
   "outputs": [],
   "source": [
    "#import packages"
   ]
  },
  {
   "cell_type": "code",
   "execution_count": 14,
   "id": "defensive-absorption",
   "metadata": {},
   "outputs": [],
   "source": [
    "import cellxgene_census\n",
    "import scanpy as sc\n",
    "import tiledbsoma\n",
    "import pandas as pd\n",
    "import scipy\n",
    "import anndata as ad\n",
    "import numpy as np\n",
    "import tiledbsoma.io"
   ]
  },
  {
   "cell_type": "code",
   "execution_count": 3,
   "id": "square-interface",
   "metadata": {},
   "outputs": [],
   "source": [
    "# query  Cell Census"
   ]
  },
  {
   "cell_type": "code",
   "execution_count": 4,
   "id": "secondary-ottawa",
   "metadata": {},
   "outputs": [
    {
     "name": "stderr",
     "output_type": "stream",
     "text": [
      "The \"stable\" release is currently 2023-05-15. Specify 'census_version=\"2023-05-15\"' in future calls to open_soma() to ensure data consistency.\n"
     ]
    }
   ],
   "source": [
    "with cellxgene_census.open_soma() as census:\n",
    "    human = census[\"census_data\"][\"homo_sapiens\"]\n",
    "    query = human.axis_query(\n",
    "    measurement_name = \"RNA\",\n",
    "    obs_query = tiledbsoma.AxisQuery(\n",
    "        value_filter = \"tissue_general == 'bone marrow' and disease =='normal'\" ))"
   ]
  },
  {
   "cell_type": "code",
   "execution_count": 5,
   "id": "focused-cattle",
   "metadata": {},
   "outputs": [],
   "source": [
    "#view query"
   ]
  },
  {
   "cell_type": "code",
   "execution_count": 6,
   "id": "burning-nowhere",
   "metadata": {},
   "outputs": [
    {
     "data": {
      "text/plain": [
       "<somacore.query.query.ExperimentAxisQuery at 0x7f2c767a67c0>"
      ]
     },
     "execution_count": 6,
     "metadata": {},
     "output_type": "execute_result"
    }
   ],
   "source": [
    "query"
   ]
  },
  {
   "cell_type": "code",
   "execution_count": 7,
   "id": "interesting-rolling",
   "metadata": {},
   "outputs": [
    {
     "data": {
      "text/plain": [
       "<bound method ExperimentAxisQuery.obs of <somacore.query.query.ExperimentAxisQuery object at 0x7f2c767a67c0>>"
      ]
     },
     "execution_count": 7,
     "metadata": {},
     "output_type": "execute_result"
    }
   ],
   "source": [
    "query.obs"
   ]
  },
  {
   "cell_type": "code",
   "execution_count": 8,
   "id": "cheap-fundamentals",
   "metadata": {},
   "outputs": [
    {
     "data": {
      "text/plain": [
       "<bound method ExperimentAxisQuery.var of <somacore.query.query.ExperimentAxisQuery object at 0x7f2c767a67c0>>"
      ]
     },
     "execution_count": 8,
     "metadata": {},
     "output_type": "execute_result"
    }
   ],
   "source": [
    "query.var"
   ]
  },
  {
   "cell_type": "code",
   "execution_count": 9,
   "id": "operational-turning",
   "metadata": {},
   "outputs": [
    {
     "data": {
      "text/plain": [
       "<bound method ExperimentAxisQuery.X of <somacore.query.query.ExperimentAxisQuery object at 0x7f2c767a67c0>>"
      ]
     },
     "execution_count": 9,
     "metadata": {},
     "output_type": "execute_result"
    }
   ],
   "source": [
    "query.X"
   ]
  },
  {
   "cell_type": "code",
   "execution_count": null,
   "id": "premium-doubt",
   "metadata": {},
   "outputs": [],
   "source": [
    "# convert query outputs to AnnData format."
   ]
  },
  {
   "cell_type": "code",
   "execution_count": null,
   "id": "useful-conducting",
   "metadata": {},
   "outputs": [],
   "source": [
    "adata = query.to_anndata(X_name=\"raw\")"
   ]
  },
  {
   "cell_type": "code",
   "execution_count": null,
   "id": "protective-panel",
   "metadata": {},
   "outputs": [],
   "source": [
    "adata"
   ]
  },
  {
   "cell_type": "code",
   "execution_count": null,
   "id": "fluid-report",
   "metadata": {},
   "outputs": [],
   "source": [
    "adata.obs"
   ]
  },
  {
   "cell_type": "code",
   "execution_count": null,
   "id": "successful-brighton",
   "metadata": {},
   "outputs": [],
   "source": [
    "adata.var"
   ]
  },
  {
   "cell_type": "code",
   "execution_count": null,
   "id": "prescribed-supplement",
   "metadata": {},
   "outputs": [],
   "source": [
    "#write anndata object to file"
   ]
  },
  {
   "cell_type": "code",
   "execution_count": null,
   "id": "recreational-aging",
   "metadata": {},
   "outputs": [],
   "source": [
    "adata.write('bone-marrow_cell-census_memory_efficient.h5ad',compression='gzip')"
   ]
  }
 ],
 "metadata": {
  "kernelspec": {
   "display_name": "Python (shi_env)",
   "language": "python",
   "name": "myenv"
  },
  "language_info": {
   "codemirror_mode": {
    "name": "ipython",
    "version": 3
   },
   "file_extension": ".py",
   "mimetype": "text/x-python",
   "name": "python",
   "nbconvert_exporter": "python",
   "pygments_lexer": "ipython3",
   "version": "3.8.16"
  }
 },
 "nbformat": 4,
 "nbformat_minor": 5
}
